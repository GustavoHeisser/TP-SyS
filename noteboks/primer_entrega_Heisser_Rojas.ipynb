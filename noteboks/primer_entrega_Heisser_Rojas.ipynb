{
 "cells": [
  {
   "cell_type": "markdown",
   "metadata": {},
   "source": [
    "# Trabajo Practico - Desarrollo de software para el cálculo de parámetros acústicos ISO 3382 (1er entrega)\n",
    "\n",
    "## Fecha de entrega"
   ]
  },
  {
   "cell_type": "markdown",
   "metadata": {},
   "source": [
    "*Ingresar fecha*"
   ]
  },
  {
   "cell_type": "markdown",
   "metadata": {},
   "source": [
    "## Integrantes"
   ]
  },
  {
   "cell_type": "markdown",
   "metadata": {},
   "source": [
    "* Gustavo Heisser\n",
    "* Agustin Rojas"
   ]
  },
  {
   "cell_type": "markdown",
   "metadata": {},
   "source": [
    "## Aspectos generales del notebook\n",
    "\n",
    "* Todas las funciones deben contar con su [docstring](https://realpython.com/documenting-python-code/#docstring-types), como figura en la funcion de ejemplo (`ruidoRosa_voss`).\n",
    "* Todos los gráficos deben tener correctamente etiquetados los ejes.\n",
    "* Enviar el notebook (.ipynb) completado y con las celdas ejecutas a myommi@untref.edu.ar.\n",
    "* Todas las señales de audio deben ser grabadas en formato .wav en la misma función que las genera."
   ]
  },
  {
   "cell_type": "markdown",
   "metadata": {},
   "source": [
    "## Librerias utilizadas\n",
    "Agregar todas las librerias utilizadas, algunas a modo de ejemplo:"
   ]
  },
  {
   "cell_type": "code",
   "execution_count": 16,
   "metadata": {},
   "outputs": [],
   "source": [
    "import numpy as np\n",
    "from matplotlib import pyplot as plt\n",
    "import pandas as pd\n",
    "import scipy as sp\n",
    "from scipy.io.wavfile import write\n",
    "import simpleaudio as sa\n",
    "import sounddevice as sd\n",
    "import time"
   ]
  },
  {
   "cell_type": "markdown",
   "metadata": {},
   "source": [
    "## Función de sintetización de ruido rosa\n",
    "El ruido rosa o ruido $\\frac{1}{\\sqrt{f}}$ , dónde $f$ denota frecuencia en Hz, es un ruido con una distribución de frecuencias tal que su densidad espectral de potencia es proporcional a la inversa de la frecuencia. Esto implica que su nivel, por bandas de tercio de octava, es constante. El nivel del ruido rosa por intervalo fijo de frecuencias va decayendo a razón de 3 dB/octava, de forma no lineal aunque las frecuencias se representan en un eje lineal.\n",
    "\n",
    "![Espectro del ruido rosa](../img/image44.png)\n",
    "<center><b>Fig 1.</b> Espectro del ruido rosa.</center>\n",
    "\n",
    "Se adjunta a continuación una función que devuelva un ruido rosa sintetizado a partir del algoritmo de Voss y Clarke (pueden encontrar mas informacion en [este enlace](https://www.dsprelated.com/showabstract/3933.php) y en [este notebook](https://github.com/AllenDowney/ThinkDSP/blob/master/code/voss.ipynb)). \n",
    "\n",
    "**Consigna:** modificar la función original para que reciba como parametro la duración del ruido en segundos $t$ y como parametro opcional la frecuencia de muestreo $fs$ (Ayuda: la longitud de la señal sera el producto entre ambos). La función debe guardar el archivo de audio .wav de la señal generada y devolver el vector de datos de la señal."
   ]
  },
  {
   "cell_type": "code",
   "execution_count": 4,
   "metadata": {},
   "outputs": [],
   "source": [
    "def ruidoRosa_voss(t, fs=44100, ncols=16):\n",
    "    \"\"\"\n",
    "    Genera ruido rosa utilizando el algoritmo de Voss-McCartney(https://www.dsprelated.com/showabstract/3933.php).\n",
    "    \n",
    "    .. Nota:: si 'ruidoRosa.wav' existe, este será sobreescrito\n",
    "    \n",
    "    Parametros\n",
    "    ----------\n",
    "    t : float\n",
    "        Valor temporal en segundos, este determina la duración del ruido generado.\n",
    "    rcols: int\n",
    "        Determina el número de fuentes a aleatorias a agregar.\n",
    "    fs: int\n",
    "        Frecuencia de muestreo en Hz de la señal. Por defecto el valor es 44100 Hz.\n",
    "    \n",
    "    returns: NumPy array\n",
    "        Datos de la señal generada.\n",
    "    \n",
    "    Ejemplo\n",
    "    -------\n",
    "    Generar un `.wav` desde un numpy array de 10 segundos con ruido rosa a una \n",
    "    frecuencia de muestreo de 44100 Hz.\n",
    "    \n",
    "        import numpy as np\n",
    "        import scipy as sp\n",
    "        from scipy.io.wavfile import write\n",
    "        \n",
    "        ruidoRosa_voss(10)\n",
    "    \"\"\"\n",
    "    nrows = t*fs\n",
    "\n",
    "    array = np.full((nrows, ncols), np.nan)\n",
    "    array[0, :] = np.random.random(ncols)\n",
    "    array[:, 0] = np.random.random(nrows)\n",
    "    \n",
    "    # el numero total de cambios es nrows\n",
    "    n = nrows\n",
    "    cols = np.random.geometric(0.5, n)\n",
    "    cols[cols >= ncols] = 0\n",
    "    rows = np.random.randint(nrows, size=n)\n",
    "    array[rows, cols] = np.random.random(n)\n",
    "    \n",
    "    df = pd.DataFrame(array)\n",
    "    filled = df.fillna(method='ffill', axis=0)\n",
    "    total = filled.sum(axis=1)\n",
    "    \n",
    "    ## Centrado de el array en 0\n",
    "    total = total - total.mean()\n",
    "    \n",
    "    ## Normalizado\n",
    "    valor_max = max(abs(max(total)),abs(min(total)))\n",
    "    total = total / valor_max\n",
    "    \n",
    "    # Generación de archivo de audio .wav\n",
    "    filename = '../audio/ruidoRosa.wav'\n",
    "    write(filename, fs, total)\n",
    "    \n",
    "    return total"
   ]
  },
  {
   "cell_type": "markdown",
   "metadata": {
    "tags": []
   },
   "source": [
    "Llamar la función."
   ]
  },
  {
   "cell_type": "code",
   "execution_count": 5,
   "metadata": {
    "tags": []
   },
   "outputs": [],
   "source": [
    "ruidoRosa = ruidoRosa_voss(10)"
   ]
  },
  {
   "cell_type": "markdown",
   "metadata": {
    "tags": []
   },
   "source": [
    "Realizar una función para visualizar el dominio temporal de la señal."
   ]
  },
  {
   "cell_type": "code",
   "execution_count": 1,
   "metadata": {
    "tags": []
   },
   "outputs": [],
   "source": [
    "def visualizar (audioData, fs=44100):\n",
    "    '''\n",
    "        Funcion para visualizar audio\n",
    "    '''\n",
    "\n",
    "    length = audioData.shape[0] / fs\n",
    "    t = np.linspace(0., length, audioData.shape[0])\n",
    "    #t = np.arange(0, len(audioData), 1)/ fs\n",
    "    \n",
    "    plt.rcParams['figure.figsize'] = (15, 5) # set plot size\n",
    "    #plt.plot(t, audioData)\n",
    "    plt.plot(t, audioData / (2.**15))\n",
    "    plt.title('Audio Waveform',size=16);\n",
    "    plt.xlabel(\"Tiempo [s]\")\n",
    "    plt.ylabel(\"Amplitud [int16]\")"
   ]
  },
  {
   "cell_type": "markdown",
   "metadata": {},
   "source": [
    "Llamar a la función."
   ]
  },
  {
   "cell_type": "code",
   "execution_count": 38,
   "metadata": {},
   "outputs": [
    {
     "data": {
      "image/png": "[encoded data removed]",
      "text/plain": [
       "<Figure size 1080x360 with 1 Axes>"
      ]
     },
     "metadata": {
      "needs_background": "light"
     },
     "output_type": "display_data"
    }
   ],
   "source": [
    "visualizar(ruidoRosa)"
   ]
  },
  {
   "cell_type": "markdown",
   "metadata": {},
   "source": [
    "Graficar el dominio espectral del resultado utilizando el [software Audacity](https://www.audacityteam.org/) (Ayuda: [Plot Spectrum Audacity](https://manual.audacityteam.org/man/plot_spectrum.html))"
   ]
  },
  {
   "cell_type": "code",
   "execution_count": 39,
   "metadata": {
    "tags": []
   },
   "outputs": [
    {
     "data": {
      "text/plain": [
       "Text(0, 0.5, 'Nivel [dB]')"
      ]
     },
     "execution_count": 39,
     "metadata": {},
     "output_type": "execute_result"
    },
    {
     "data": {
      "image/png": "[encoded data removed]",
      "text/plain": [
       "<Figure size 1080x360 with 1 Axes>"
      ]
     },
     "metadata": {
      "needs_background": "light"
     },
     "output_type": "display_data"
    }
   ],
   "source": [
    "# Cambio de coma por punto\n",
    "with open(\"../audio/espectro.txt\") as f_input:\n",
    "\n",
    "    text = [l.replace(\",\", \".\") for l in f_input]\n",
    "\n",
    "# Creo un array con los pares ordenados \n",
    "data = np.loadtxt(text, skiprows=1)\n",
    "\n",
    "frecuencia, nivel = data.T\n",
    "plt.plot(frecuencia,nivel)\n",
    "plt.title('Dominio espectral')\n",
    "plt.xlabel(\"Frecuencia [Hz]\")\n",
    "plt.ylabel(\"Nivel [dB]\")"
   ]
  },
  {
   "cell_type": "markdown",
   "metadata": {},
   "source": [
    "Reproducir resultado."
   ]
  },
  {
   "cell_type": "code",
   "execution_count": 22,
   "metadata": {
    "tags": []
   },
   "outputs": [],
   "source": [
    "fs = 44100\n",
    "sd.play(ruidoRosa, fs)\n",
    "sd.wait()"
   ]
  },
  {
   "cell_type": "markdown",
   "metadata": {},
   "source": [
    "> Solo a modo de comentario, un **método alternativo** es utilizando un filtro en el siguiente [link](https://ccrma.stanford.edu/~jos/sasp/Example_Synthesis_1_F_Noise.html) se presenta la implementación en Matlab/Octave."
   ]
  },
  {
   "cell_type": "markdown",
   "metadata": {},
   "source": [
    "## Funcion de generación de sine sweep logaritmico + filtro inverso\n",
    "El sine sweep es el método más indicado para generar el impulso por medio de la convolución (Nikolić, I., and O. H. Bjor, 2003). Dado que métodos tales como: explosión de globo, aplauso, disparo con pistola se salva, paper gun ([Paper Popper](https://en.wikipedia.org/wiki/Paper_popper)), golpe entre maderas, petardos, entre otros, carecen de reproducibilidad. Esto es debido a su nivel sonoro, duración y características espectrales, además de una muy baja relación señal ruido, la cual difícilmente se solucione filtrando o promediando con muchas mediciones. Comencemos por ver cómo generar el sine sweep logarítmico $x(t)$ que posee la siguiente forma:\n",
    "\n",
    "\\begin{equation}\n",
    "f(x) = \\sin[\\theta(t)]= \\sin[K (e^\\frac{t}{L} - 1) ]\n",
    "\\tag{1}\n",
    "\\end{equation}\n",
    "\n",
    "Donde:\n",
    "\n",
    "\\begin{equation}\n",
    "K = \\frac{T w_{1}}{R}\n",
    "\\end{equation}\n",
    "\n",
    "\\begin{equation}\n",
    "L = \\frac{T}{R}\n",
    "\\end{equation}\n",
    "\n",
    "y el sweep rate $R$: \n",
    "\n",
    "\\begin{equation}\n",
    "R = \\ln \\left( \\frac{w_{2}}{w_{1}} \\right)\n",
    "\\tag{2}\n",
    "\\end{equation}\n",
    "\n",
    "Con $w_{1}$ y $w_{2}$, las frecuencias angulares inferior y superior respectivamente, $T$ es el tiempo de duración del sine sweep en segundos (Meng, Q., 2008). Si estudiamos el espectro de la señal de la ecuación (1), se observa que no es plano, sino que disminuye a razón de -3 dB/octava, como el ruido rosa (Ver fig. 2, sup). De modo que el espectro de $x(-t)$ debe ser ajustado, aumentando en 3 dB/octava, de modo que cuando realizamos el cálculo se restaure la plenitud perfecta de la respuesta de impulso medida $h(t)$ (Farina A., 2000) (Ver fig. 2, inf).\n",
    "\n",
    "![](../img/image43.png)\n",
    "<center><b>Fig 2.</b> Espectro del sine sweep. Sine sweep logarítmico  (sup). Filtro invertido (inf).</center>\n",
    "\n",
    "\n",
    "En el dominio temporal las señales del sine sweep logarítmico y el filtro inverso se comportan de la siguiente manera (Ver fig. 3). \n",
    "\n",
    "![](../img/image46.png)\n",
    "<center><b>Fig 3.</b> Magnitud del sine sweep. Sine sweep logarítmico (sup). Filtro invertido (inf).</center>"
   ]
  },
  {
   "cell_type": "markdown",
   "metadata": {},
   "source": [
    "Para generar el filtro inverso $k(t)$ del sine sweep logarítmico $x(t)$ se requiere de una modulación $m(t)$ definida por la siguiente expresión:\n",
    "\n",
    "\\begin{equation}\n",
    "m(t) = \\frac{w_{1}}{2\\pi w(t)}\n",
    "\\tag{3}\n",
    "\\end{equation}\n",
    "\n",
    "Obtenida de la frecuencia instantánea (dado que la amplitud cambia en función de la\n",
    "frecuencia), calculada a partir de la ecuación (1):\n",
    "\n",
    "\\begin{equation}\n",
    "w(t)=\\frac{d[\\theta (t)]}{dt}=\\frac{K}{L} e^\\frac{t}{L}\n",
    "\\tag{4}\n",
    "\\end{equation}\n",
    "m\n",
    "entonces, el filtro inverso $k(t)$ queda definido como:\n",
    "\n",
    "\\begin{equation}\n",
    "k(t)=m(t)x(-t)\n",
    "\\tag{5}\n",
    "\\end{equation}\n",
    "\n",
    "**Consigna:** realizar una función generadora de un sine sweep y su filtro inverso, a partir de las ecuaciones descriptas anteriormente, y graficar el resultado de ambos filtros, usando la función anteriormente creada. Recordar almacenar los audios. Agregar docstring que indique claramente los parametros de entrada y salida."
   ]
  },
  {
   "cell_type": "code",
   "execution_count": 21,
   "metadata": {
    "tags": []
   },
   "outputs": [],
   "source": [
    "def sine_sweep(T, f_inicial, f_final, fs=44100):\n",
    "    \"\"\"\n",
    "    Generacion de un sine sweep y su filtro inverso\n",
    "    \n",
    "    Parametros\n",
    "    ----------\n",
    "    T : float\n",
    "        Valor temporal en segundos, este determina la duración del sine sweep generado.\n",
    "    f_inicial: int\n",
    "        Frecuencia inicial del sine sweep en Hz.\n",
    "    f_final: int\n",
    "        Frecuencia final del sine sweep en Hz.\n",
    "    fs: int   \n",
    "        Frecuencia de muestreo en Hz de la señal. Por defecto el valor es 44100 Hz.\n",
    "    \n",
    "    returns: Dos NumPy arrays\n",
    "        Datos de las señales generadas.\n",
    "    \n",
    "    Ejemplo\n",
    "    -------\n",
    "    Generar un `.wav` desde un numpy array de 10 segundos con sine sweep de 20 a 20000 Hz \n",
    "    a una frecuencia de muestreo de 44100 Hz.\n",
    "    \n",
    "        import numpy as np\n",
    "        import scipy as sp\n",
    "        from scipy.io.wavfile import write\n",
    "        \n",
    "        sine_sweep(10,20,20000)\n",
    "    \"\"\"\n",
    "    # Calculo de parametros\n",
    "    omega_inicial = 2*np.pi*f_inicial\n",
    "    omega_final = 2*np.pi*f_final\n",
    "    n = T*fs\n",
    "    K = np.float16((T * omega_inicial) / np.log(omega_final/omega_inicial))\n",
    "    L = np.float16(T / np.log(omega_final/omega_inicial))\n",
    "    t = np.linspace(0,T,n)\n",
    "\n",
    "    # Funcion sine sweep\n",
    "    f = np.sin(K*(np.exp(t/L)-1))\n",
    "    \n",
    "    ## Normalizado\n",
    "    valor_max = max(abs(max(f)),abs(min(f)))\n",
    "    sine_sweep = f / valor_max\n",
    "    \n",
    "    # Generación de archivo de audio .wav\n",
    "    filename = '../audio/sinesweep.wav'\n",
    "    write(filename, fs, sine_sweep)\n",
    "    \n",
    "    # Funcion filtro inverso\n",
    "    w = ((K/L)*np.exp(t/L))\n",
    "    m = (omega_inicial/(2*np.pi*w))\n",
    "    k = m*f[::-1]\n",
    "    \n",
    "    ## Normalizado\n",
    "    valor_max = max(abs(max(k)),abs(min(k)))\n",
    "    filtro_inverso = k / valor_max\n",
    "    \n",
    "    # Generación de archivo de audio .wav\n",
    "    filename = '../audio/filtroinverso.wav'\n",
    "    write(filename, fs, filtro_inverso)\n",
    "    \n",
    "    return sine_sweep, filtro_inverso"
   ]
  },
  {
   "cell_type": "markdown",
   "metadata": {
    "tags": []
   },
   "source": [
    "Llamar la función."
   ]
  },
  {
   "cell_type": "code",
   "execution_count": 22,
   "metadata": {
    "tags": []
   },
   "outputs": [],
   "source": [
    "sine_sweep, filtro_inverso = sine_sweep(10,20,20000)"
   ]
  },
  {
   "cell_type": "markdown",
   "metadata": {},
   "source": [
    "Graficar el dominio espectral del resultado utilizando el [software Audacity](https://www.audacityteam.org/) (Ayuda: [Plot Spectrum Audacity](https://manual.audacityteam.org/man/plot_spectrum.html))"
   ]
  },
  {
   "cell_type": "code",
   "execution_count": 88,
   "metadata": {
    "tags": []
   },
   "outputs": [
    {
     "data": {
      "text/plain": [
       "Text(0, 0.5, 'Nivel [dB]')"
      ]
     },
     "execution_count": 88,
     "metadata": {},
     "output_type": "execute_result"
    },
    {
     "data": {
      "image/png": "[encoded data removed]",
      "text/plain": [
       "<Figure size 1080x360 with 1 Axes>"
      ]
     },
     "metadata": {
      "needs_background": "light"
     },
     "output_type": "display_data"
    }
   ],
   "source": [
    "# Cambio de coma por punto\n",
    "with open(\"../audio/espectro sinesweep.txt\") as f_input:\n",
    "\n",
    "    text = [l.replace(\",\", \".\") for l in f_input]\n",
    "\n",
    "# Creo un array con los pares ordenados \n",
    "data = np.loadtxt(text, skiprows=1)\n",
    "\n",
    "frecuencia, nivel = data.T\n",
    "plt.plot(frecuencia,nivel)\n",
    "\n",
    "# Cambio de coma por punto\n",
    "with open(\"../audio/espectro filtroinverso.txt\") as f_input:\n",
    "\n",
    "    text = [l.replace(\",\", \".\") for l in f_input]\n",
    "\n",
    "# Creo un array con los pares ordenados \n",
    "data = np.loadtxt(text, skiprows=1)\n",
    "\n",
    "frecuencia, nivel = data.T\n",
    "plt.semilogx(frecuencia,nivel)\n",
    "plt.title('Dominio espectral')\n",
    "plt.xlabel(\"Frecuencia [Hz]\")\n",
    "plt.ylabel(\"Nivel [dB]\")"
   ]
  },
  {
   "cell_type": "markdown",
   "metadata": {},
   "source": [
    "Reproducir resultados."
   ]
  },
  {
   "cell_type": "code",
   "execution_count": 23,
   "metadata": {
    "tags": []
   },
   "outputs": [],
   "source": [
    "fs = 44100\n",
    "sd.play(sine_sweep, fs)\n",
    "sd.wait()"
   ]
  },
  {
   "cell_type": "markdown",
   "metadata": {},
   "source": [
    "## Función adquisicion y reproducción\n",
    "**Consigna**: la función tiene que permitir la reproducción y la adquisición de manera simultánea para un tiempo determinado por el usuario. Es importante evaluar y constatar dicha simultaneidad. El módulo debería permitir seleccionar el hardware a utilizar. Algunos articulos de interes para el desarrollo:\n",
    "* [Clase de audio](../../clases/clase_6/600_audio.ipynb)\n",
    "* [Sound Device - Simultaneous Playback and Recording](https://python-sounddevice.readthedocs.io/en/0.4.1/usage.html#simultaneous-playback-and-recording)\n",
    "* [Playing and Recording Sound in Python](https://realpython.com/playing-and-recording-sound-python/)\n",
    "* [Audio in Python](https://wiki.python.org/moin/Audio/)\n",
    "* [https://github.com/spatialaudio/python-sounddevice/issues/148](https://github.com/spatialaudio/python-sounddevice/issues/148)"
   ]
  },
  {
   "cell_type": "code",
   "execution_count": 102,
   "metadata": {
    "tags": []
   },
   "outputs": [],
   "source": [
    "def reproduccion_adquisicion(t, audio, device_in=sd.default.device[0], device_out=sd.default.device[1], fs=44100):\n",
    "    \"\"\"\n",
    "    Reproduccion de un NumPy array y grabacion en simultaneo.\n",
    "    \n",
    "    Parametros\n",
    "    ----------\n",
    "    t : float\n",
    "        Valor temporal en segundos, este determina la duración de la grabacion.\n",
    "    audio: NumPy array\n",
    "        Array que se desea reproducir.\n",
    "    device_in: int\n",
    "        Numero de dispositivo de entrada. En caso de no conocer el numero de dispositivo, consultar usando sd.query_devices(). \n",
    "    device_out: int\n",
    "        Numero de dispositivo de salida. En caso de no conocer el numero de dispositivo, consultar usando sd.query_devices(). \n",
    "    fs: int   \n",
    "        Frecuencia de muestreo en Hz de la señal. Por defecto el valor es 44100 Hz.\n",
    "    \n",
    "    returns: NumPy array\n",
    "        Datos de la señal generada.\n",
    "    \n",
    "    Ejemplo\n",
    "    -------\n",
    "    Generar un `.wav` desde un numpy array de 5 segundos a partir de la grabacion en simultaneo a la reproduccion de otro array\n",
    "    ingresado como segundo argumento, a una frecuencia de muestreo de 44100 Hz. Se utilizan los dispositivos de entrada y salida por default.\n",
    "    \n",
    "        import numpy as np\n",
    "        import scipy as sp\n",
    "        from scipy.io.wavfile import write\n",
    "        import sounddevice as sd\n",
    "        \n",
    "        reproduccion_adquisicion(5, audio)\n",
    "    \"\"\"\n",
    "    \n",
    "    # Calculo de muestras totales\n",
    "    n = t*fs \n",
    "    \n",
    "    # Creacion del array a reescribir, si t es menor a la duracion del audio, se recorta. De lo contrario, se rellena con ceros (silencio).\n",
    "    if n <= len(audio):\n",
    "        data = audio[:n]\n",
    "    else :\n",
    "        data = np.concatenate((audio, np.zeros(n-len(audio))))\n",
    "    \n",
    "    # Para la reproduccion y escritura simultanea se utiliza playrec de sounddevice\n",
    "    recording = sd.playrec(data, samplerate=44100, channels=2, blocking=True, device=[device_in,device_out])\n",
    "\n",
    "    # Creacion del archivo .wav\n",
    "    filename = '../audio/output.wav'\n",
    "    write(filename, fs, prueba)\n",
    "    \n",
    "    return recording"
   ]
  },
  {
   "cell_type": "markdown",
   "metadata": {
    "tags": []
   },
   "source": [
    "Llamar la función."
   ]
  },
  {
   "cell_type": "code",
   "execution_count": 100,
   "metadata": {},
   "outputs": [
    {
     "data": {
      "text/plain": [
       "   0 Asignador de sonido Microsoft - Input, MME (2 in, 0 out)\n",
       ">  1 Línea (2- ConnectAUDIO2/4), MME (2 in, 0 out)\n",
       "   2 Micrófono (Realtek High Definit, MME (2 in, 0 out)\n",
       "   3 Asignador de sonido Microsoft - Output, MME (0 in, 2 out)\n",
       "<  4 Altavoces (2- ConnectAUDIO2/4), MME (0 in, 2 out)\n",
       "   5 Altavoces (Realtek High Definit, MME (0 in, 2 out)\n",
       "   6 Controlador primario de captura de sonido, Windows DirectSound (2 in, 0 out)\n",
       "   7 Línea (2- ConnectAUDIO2/4), Windows DirectSound (2 in, 0 out)\n",
       "   8 Micrófono (Realtek High Definition Audio), Windows DirectSound (2 in, 0 out)\n",
       "   9 Controlador primario de sonido, Windows DirectSound (0 in, 2 out)\n",
       "  10 Altavoces (2- ConnectAUDIO2/4), Windows DirectSound (0 in, 2 out)\n",
       "  11 Altavoces (Realtek High Definition Audio), Windows DirectSound (0 in, 2 out)\n",
       "  12 iConnectivity ASIO Driver, ASIO (2 in, 4 out)\n",
       "  13 Altavoces (Realtek High Definition Audio), Windows WASAPI (0 in, 2 out)\n",
       "  14 Altavoces (2- ConnectAUDIO2/4), Windows WASAPI (0 in, 2 out)\n",
       "  15 Línea (2- ConnectAUDIO2/4), Windows WASAPI (2 in, 0 out)\n",
       "  16 Micrófono (Realtek High Definition Audio), Windows WASAPI (2 in, 0 out)\n",
       "  17 Audífono de los auriculares con micrófono (@System32\\drivers\\bthhfenum.sys,#2;%1 Hands-Free%0\n",
       ";(JBL Flip 4)), Windows WDM-KS (0 in, 1 out)\n",
       "  18 Micrófono (@System32\\drivers\\bthhfenum.sys,#2;%1 Hands-Free%0\n",
       ";(JBL Flip 4)), Windows WDM-KS (1 in, 0 out)\n",
       "  19 Auriculares (), Windows WDM-KS (0 in, 2 out)\n",
       "  20 Speakers (Realtek HD Audio output), Windows WDM-KS (0 in, 2 out)\n",
       "  21 Micrófono (Realtek HD Audio Mic input), Windows WDM-KS (2 in, 0 out)\n",
       "  22 Mezcla estéreo (Realtek HD Audio Stereo input), Windows WDM-KS (2 in, 0 out)\n",
       "  23 Línea (Audio Input), Windows WDM-KS (2 in, 0 out)\n",
       "  24 Altavoces (Audio Output), Windows WDM-KS (0 in, 4 out)\n",
       "  25 Auriculares (), Windows WDM-KS (0 in, 2 out)\n",
       "  26 Altavoces (), Windows WDM-KS (0 in, 2 out)\n",
       "  27 Auriculares (), Windows WDM-KS (0 in, 2 out)\n",
       "  28 Altavoces (), Windows WDM-KS (0 in, 2 out)\n",
       "  29 Auriculares (@System32\\drivers\\bthhfenum.sys,#2;%1 Hands-Free%0\n",
       ";(SRS-XB10)), Windows WDM-KS (0 in, 1 out)\n",
       "  30 Micrófono de los auriculares con micrófono (@System32\\drivers\\bthhfenum.sys,#2;%1 Hands-Free%0\n",
       ";(SRS-XB10)), Windows WDM-KS (1 in, 0 out)\n",
       "  31 Auriculares con micrófono (@System32\\drivers\\bthhfenum.sys,#2;%1 Hands-Free%0\n",
       ";(Chevrolet)), Windows WDM-KS (0 in, 1 out)\n",
       "  32 Auriculares con micrófono (@System32\\drivers\\bthhfenum.sys,#2;%1 Hands-Free%0\n",
       ";(Chevrolet)), Windows WDM-KS (1 in, 0 out)"
      ]
     },
     "execution_count": 100,
     "metadata": {},
     "output_type": "execute_result"
    }
   ],
   "source": [
    "# Se consultan los dispositivos de entrada y salida\n",
    "sd.query_devices()"
   ]
  },
  {
   "cell_type": "code",
   "execution_count": 98,
   "metadata": {
    "tags": []
   },
   "outputs": [],
   "source": [
    "# Se llama a la funcion\n",
    "recording = reproduccion_adquisicion(5, sine_sweep, 2, 4)\n",
    "\n",
    "# Se reproduce el resultado\n",
    "fs = 44100\n",
    "sd.play(recording, fs)\n",
    "sd.wait()"
   ]
  },
  {
   "cell_type": "markdown",
   "metadata": {},
   "source": [
    "¿Cómo se podría medir la latencia de la función?"
   ]
  },
  {
   "cell_type": "code",
   "execution_count": 99,
   "metadata": {},
   "outputs": [
    {
     "name": "stdout",
     "output_type": "stream",
     "text": [
      "Latencia de la funcion: 0.2745685577392578 s\n"
     ]
    }
   ],
   "source": [
    "# Se puede calcular la latencia a partir de la funcion time que mide la hora, antes y despues de ejecutar la funcion, restando al total el tiempo que dura la grabacion.\n",
    "t = 15\n",
    "t1 = time.time()\n",
    "recording = reproduccion_adquisicion(t, sine_sweep, 2, 4)\n",
    "dt1 = time.time() - t1 - t\n",
    "\n",
    "print('Latencia de la funcion:', dt1, 's')"
   ]
  }
 ],
 "metadata": {
  "kernelspec": {
   "display_name": "Python 3",
   "language": "python",
   "name": "python3"
  },
  "language_info": {
   "codemirror_mode": {
    "name": "ipython",
    "version": 3
   },
   "file_extension": ".py",
   "mimetype": "text/x-python",
   "name": "python",
   "nbconvert_exporter": "python",
   "pygments_lexer": "ipython3",
   "version": "3.8.5"
  }
 },
 "nbformat": 4,
 "nbformat_minor": 4
}

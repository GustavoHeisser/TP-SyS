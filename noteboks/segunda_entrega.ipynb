{
 "cells": [
  {
   "cell_type": "markdown",
   "metadata": {},
   "source": [
    "# Trabajo Practico - Desarrollo de software para el cálculo de parámetros acústicos ISO 3382 (2da entrega)\n",
    "\n",
    "## Fecha de entrega"
   ]
  },
  {
   "cell_type": "markdown",
   "metadata": {},
   "source": [
    "08/06/2021"
   ]
  },
  {
   "cell_type": "markdown",
   "metadata": {},
   "source": [
    "## Integrantes"
   ]
  },
  {
   "cell_type": "markdown",
   "metadata": {},
   "source": [
    "* Gustavo Heisser\n",
    "* Agustin Rojas"
   ]
  },
  {
   "cell_type": "markdown",
   "metadata": {},
   "source": [
    "## Aspectos generales del notebook\n",
    "\n",
    "* Todas las funciones deben contar con su [docstring](https://realpython.com/documenting-python-code/#docstring-types), como figura en la función de ejemplo (`ruidoRosa_voss`)(1er entrega).\n",
    "* Todos los gráficos deben tener correctamente etiquetados los ejes.\n",
    "* Enviar el notebook (.ipynb) completado y con las celdas ejecutas a myommi@untref.edu.ar.\n",
    "* Todas las señales de audio deben ser grabadas en formato .wav en la misma función que las genera."
   ]
  },
  {
   "cell_type": "markdown",
   "metadata": {},
   "source": [
    "## Librerias utilizadas\n",
    "Agregar todas las librerias utilizadas, algunas a modo de ejemplo:"
   ]
  },
  {
   "cell_type": "code",
   "execution_count": 1,
   "metadata": {},
   "outputs": [],
   "source": [
    "import numpy as np\n",
    "from matplotlib import pyplot as plt\n",
    "import pandas as pd\n",
    "from scipy import signal\n",
    "import sounddevice as sd\n",
    "import soundfile as sf\n",
    "import simpleaudio as sa\n",
    "import wave\n",
    "import scipy as sp\n",
    "from scipy.io.wavfile import write"
   ]
  },
  {
   "cell_type": "markdown",
   "metadata": {},
   "source": [
    "## Descargar dataset\n",
    "El objetivo es tener archivos para validar el software creado , para lo cual es necesario contar con la información y los datos de la medición.\n",
    "\n",
    "### 1. Respuestas al impulso: \n",
    "**Consigna:** Descargar **al menos dos** respuestas al impulso (RI o en ingles IR, Impulse Responses) de dos recintos distintos del siguiente [link](https://www.openair.hosted.york.ac.uk/?page_id=36) y toda la información relevante de la medición, ademas de los resultados de los parametros acústicos calculados (para luego comparar). También se pueden usar los archivos dispuestos en el Drive de la asignatura. \n",
    "\n",
    "### 2. Sine sweep logarítmico + filtro inverso: \n",
    "**Consigna:** Descargar **al menos un** sine sweep con su respectivo filtro inverso. Una posibildiad es usar los archivos dispuestos en el GDrive de la asignatura. Para generar el filtro inverso usar la info brindada por el informe técnico en la misma carpeta de los archivos. "
   ]
  },
  {
   "cell_type": "markdown",
   "metadata": {},
   "source": [
    "## Función de carga de archivos de audio\n",
    "\n",
    "**Consigna:** realizar una función que permita cargar archivos de audio, en lo posible \\*.wav, por ejemplo los archivos anteriormente descargados. Contemplar el ingreso de más de un archivo de audio, por tipo."
   ]
  },
  {
   "cell_type": "code",
   "execution_count": 66,
   "metadata": {},
   "outputs": [],
   "source": [
    "def cargar_audio(filename):\n",
    "    \n",
    "    \"\"\"\n",
    "    Genera un array con los datos de un archivo de audio en formato .wav\n",
    "    \n",
    "    Parametros\n",
    "    ----------\n",
    "    filename: str\n",
    "        Nombre del archivo\n",
    "    \n",
    "    returns: NumPy array\n",
    "        Datos del archivo leido.\n",
    "    \n",
    "    Ejemplo\n",
    "    -------\n",
    "        import soundfile as sf\n",
    "        \n",
    "        filename = 'ubicacion_archivo/nombre_archivo.wav'\n",
    "        cargar_audio(filename)\n",
    "    \"\"\"\n",
    "    \n",
    "    data, fs = sf.read(filename, dtype='float32')\n",
    "    \n",
    "    return data"
   ]
  },
  {
   "cell_type": "markdown",
   "metadata": {},
   "source": [
    "Llamar a la función con uno de los ejemplos anteriormente descargados y usar la función de visualización de la 1er entrega."
   ]
  },
  {
   "cell_type": "code",
   "execution_count": 67,
   "metadata": {
    "tags": []
   },
   "outputs": [
    {
     "data": {
      "image/png": "[encoded data removed]",
      "text/plain": [
       "<Figure size 1080x360 with 1 Axes>"
      ]
     },
     "metadata": {
      "needs_background": "light"
     },
     "output_type": "display_data"
    }
   ],
   "source": [
    "def visualizar (audioData, fs=44100):\n",
    "    '''\n",
    "        Funcion para visualizar audio\n",
    "    '''\n",
    "\n",
    "    length = audioData.shape[0] / fs\n",
    "    t = np.linspace(0., length, audioData.shape[0])\n",
    "    #t = np.arange(0, len(audioData), 1)/ fs\n",
    "    \n",
    "    plt.rcParams['figure.figsize'] = (15, 5) # set plot size\n",
    "    #plt.plot(t, audioData)\n",
    "    plt.plot(t, audioData / (2.**15))\n",
    "    plt.title('Audio Waveform',size=16);\n",
    "    plt.xlabel(\"Tiempo [s]\")\n",
    "    plt.ylabel(\"Amplitud [int16]\")\n",
    "\n",
    "filename = '../IR_samples/r1-nuclear-reactor-hall/mono/r1_omni.wav'\n",
    "audio = cargar_audio(filename)\n",
    "visualizar(audio)"
   ]
  },
  {
   "cell_type": "markdown",
   "metadata": {},
   "source": [
    "> **Opcional**: el código de la siguiente celda genera un botón de selección (ver los pasos de instalación [aqui](https://ipywidgets.readthedocs.io/en/latest/user_install.html)), y guarda las rutas a los archivos seleccionados en la variable files. La función desarrollada debería tomar las rutas y leer el contenido de los archivos, utilizando alguna de las librerías vistas en clase."
   ]
  },
  {
   "cell_type": "code",
   "execution_count": 23,
   "metadata": {},
   "outputs": [],
   "source": [
    "from ipywidgets import Button\n",
    "from tkinter import Tk, filedialog\n",
    "from IPython.display import clear_output, display\n",
    "files = []\n",
    "def select_files(b,files=files):\n",
    "    clear_output()\n",
    "    root = Tk()\n",
    "    root.withdraw() # Hide the main window.\n",
    "    root.call('wm', 'attributes', '.', '-topmost', True) # Raise the root to the top of all windows.\n",
    "    files.append(filedialog.askopenfilename()) # List of selected files will be set button's file attribute.\n",
    "    print(files) # Print the list of files selected.\n",
    "\n",
    "fileselect = Button(description=\"Seleccione el archivo\")\n",
    "#fileselect.on_click(select_files)\n",
    "\n",
    "#display(fileselect)\n",
    "#files"
   ]
  },
  {
   "cell_type": "markdown",
   "metadata": {},
   "source": [
    "## Función de sintetización de respuesta al impulso\n",
    "\n",
    "**Consigna:** realizar una función para sintetizar una respuesta al impulso. La misma recibira como parametro el $T60$ que se desea obtener, y deberá sintetizar una respuesta al impulso considerando las frecuencias centrales de banda de octava y tercio de octava como establece la norma IEC61260 (IEC61260,1995). La siguiente ecuación define una RI, para una frecuencia central $f_{i}$:\n",
    "\n",
    "\\begin{equation}\n",
    "y_{i}=A_{i}e^{π_{i}t}\\cos(2πf_{i}t)\n",
    "\\tag{6}\n",
    "\\end{equation}\n",
    "\n",
    "donde $A_{i}$ es el coeficiente de amplitud para esa $f_{i}$(puede ser 1), y  $π_{i}$ define el decaimiento exponencial en función de $T_{60}$ (tiempo de reverberación) para una frecuencia $f_{i}$.\n",
    "\n",
    "\\begin{equation}\n",
    "π_{i}=\\frac{T_{60}}{\\ln(10^{-3})}\n",
    "\\tag{7}\n",
    "\\end{equation}\n",
    "\n",
    "La suma de varias frecuencias centrales $f_{i}$ se define como:\n",
    "\\begin{equation}\n",
    "  y=\\sum_{y=1}^{n}y_{i}\n",
    "\\tag{8}\n",
    "\\end{equation}\n",
    "\n",
    "Con $n$ la cantidad de frecuencias centrales $f_{i}$ del filtro. La funcion debe recibir el tiempo de reverberacion para cada frecuencia, y devolver la respuesta al impulso correspondiente como un archivo de audio .wav. Al momento de definir la función, buscar la forma de que la misma permita varios $T60$ para cada frecuencia. \n",
    "\n",
    "> Con esta funcion se busca obtener un archivo de audio de valores de $T60$ conocidos que permita probar el software."
   ]
  },
  {
   "cell_type": "code",
   "execution_count": 70,
   "metadata": {
    "tags": []
   },
   "outputs": [],
   "source": [
    "def sintesis_RI(frecuencias, T_60, tiempo, fs=44100, amplitud=1):\n",
    "    \"\"\"\n",
    "    Funcion de sintesis de respuesta al impulso\n",
    "    \n",
    "    Parametros\n",
    "    ----------\n",
    "    frecuencias: NumPy array\n",
    "        Lista de frecuencias centrales\n",
    "    T_60: NumPy array\n",
    "        Lista de tiempos de reverberacion para cada frecuencia central\n",
    "    tiempo: float\n",
    "        Tiempo de duracion de la señal resultante.\n",
    "    fs: int\n",
    "        Frecuencia de muestreo en Hz de la señal. Por defecto el valor es 44100 Hz.\n",
    "    amplitud: float\n",
    "        Coeficiente de amplitud de la señal. Por defecto el valor es 1.\n",
    "    \n",
    "    returns: NumPy array\n",
    "        Datos de la señal generada.\n",
    "    \n",
    "    Ejemplo\n",
    "    -------\n",
    "    Generar un `.wav` con un numpy array de 10 segundos a partir de una \n",
    "    respuesta al impulso a partir de las frecuencias ingresadas y sus respectivos T60\n",
    "    con frecuencia de muestreo de 44100 Hz.\n",
    "    \n",
    "        import numpy as np\n",
    "        from scipy.io.wavfile import write\n",
    "        \n",
    "        frecuencias = np.array([31.25, 62.5, 125, 250, 500, 1000, 2000, 4000, 8000, 16000])\n",
    "        T_60 = np.array([2.15, 1.48, 1.63, 1.91, 2.08, 2.09, 1.82, 1.6, 1.18, 1.11])\n",
    "        RI = sintesis_RI(frecuencias, T_60, 10)\n",
    "    \"\"\"\n",
    "    \n",
    "    n=fs*tiempo\n",
    "    t = np.linspace(0,tiempo,n)\n",
    "    decaimiento_exponencial = np.log(10**(-3))/T_60\n",
    "    y = np.empty(1)\n",
    "    for i in range(len(frecuencias)):\n",
    "        y = y + (amplitud*np.exp(decaimiento_exponencial[i]*t)*np.cos(2*np.pi*frecuencias[i]*t))\n",
    "    \n",
    "    ## Normalizado\n",
    "    valor_max = max(abs(max(y)),abs(min(y)))\n",
    "    RI = y / valor_max\n",
    "    RI = RI - RI[n-1]\n",
    "    \n",
    "    # Generación de archivo de audio .wav\n",
    "    filename = '../IR_samples/RI.wav'\n",
    "    write(filename, fs, RI)\n",
    "    \n",
    "    return RI "
   ]
  },
  {
   "cell_type": "markdown",
   "metadata": {},
   "source": [
    "Llamar a la función con un vector que contega varios $T60$ para las cada frecuencias centrales $f_{i}$."
   ]
  },
  {
   "cell_type": "code",
   "execution_count": 69,
   "metadata": {
    "tags": []
   },
   "outputs": [
    {
     "data": {
      "image/png": "[encoded data removed]",
      "text/plain": [
       "<Figure size 1080x360 with 1 Axes>"
      ]
     },
     "metadata": {
      "needs_background": "light"
     },
     "output_type": "display_data"
    }
   ],
   "source": [
    "frecuencias = np.array([31.25, 62.5, 125, 250, 500, 1000, 2000, 4000, 8000, 16000])\n",
    "T_60 = np.array([2.15, 1.48, 1.63, 1.91, 2.08, 2.09, 1.82, 1.6, 1.18, 1.11])\n",
    "\n",
    "RI = sintesis_RI(frecuencias, T_60, 10)\n",
    "visualizar(RI)"
   ]
  },
  {
   "cell_type": "markdown",
   "metadata": {
    "tags": []
   },
   "source": [
    "Reproducir señal resultante."
   ]
  },
  {
   "cell_type": "code",
   "execution_count": 9,
   "metadata": {
    "tags": []
   },
   "outputs": [],
   "source": [
    "fs = 44100\n",
    "sd.play(RI, fs)\n",
    "sd.wait()"
   ]
  },
  {
   "cell_type": "markdown",
   "metadata": {},
   "source": [
    "Comentar sobre el resultado obtenido, ¿Es una buena aproximación? ¿Qué aspectos estamos dejando de lado en esta sintetización, que en un caso real estan presentes?."
   ]
  },
  {
   "cell_type": "markdown",
   "metadata": {
    "tags": []
   },
   "source": [
    "*completar*"
   ]
  },
  {
   "cell_type": "markdown",
   "metadata": {},
   "source": [
    "## Función obtener respuesta al impulso\n",
    "\n",
    "**Consigna:** realizar una función que permita obtener la respuesta al impulso en formato de señal de audio .wav, a partir del sinesweep logarítmico grabado y el filtro inverso generado utilizando el siguiente método: \n",
    "\n",
    "Supongamos que un recinto es excitado por una señal sinesweep logarítmica $x(t)$ y captada por un micrófono $y(t)$ y buscamos la RI del recinto $h(t)$, lo anterior se expresa de la siguiente manera:\n",
    "\n",
    "\\begin{equation}\n",
    "y(t)=x(t)*h(t)\n",
    "\\tag{9}\n",
    "\\end{equation}\n",
    "\n",
    "Para un sine sweep lineal (que no es nuestro caso) el problema es sencillo, pero en nuestro caso (sine sweep logarítmico) requiere trabajar un poco respecto $x(t)$ para obtener la siguiente expresión:\n",
    "\n",
    "\\begin{equation}\n",
    "h(t) = F^{-1}[H(jw)]=F^{-1}[Y(jw)K(jw)]\n",
    "\\tag{10}\n",
    "\\end{equation}\n",
    "\n",
    "Recordar que $k(t)$ es el filtro inverso (ecu.5) y $K(jw)$ su respectiva transformada de fourier. De esta manera se obtiene la respuesta al impulso buscada.\n",
    "\n",
    "> El desarrollo matemático de la anterior expresión se encuentra en el [Anexo I - Obtener la respuesta al impulso a partir de un sine sweep](../consigna_TP_matlab.pdf) (p.14) del instructivo para Matlab del TP."
   ]
  },
  {
   "cell_type": "code",
   "execution_count": 71,
   "metadata": {
    "tags": []
   },
   "outputs": [],
   "source": [
    "def obtencion_RI(sine_sweep, filtro_inverso, fs=44100):\n",
    "    \"\"\"\n",
    "    Funcion para obtener una respuesta al impulso a partir de un sine sweep logaritmico y su filtro inverso\n",
    "    \n",
    "    Parametros\n",
    "    ----------\n",
    "    sine_sweep : NumPy array\n",
    "        Señal del sine sweep logaritmico.\n",
    "    filtro_inverso : NumPy array\n",
    "        Señal del filtro inverso.\n",
    "    fs: int\n",
    "        Frecuencia de muestreo en Hz de la señal. Por defecto el valor es 44100 Hz.\n",
    "    \n",
    "    returns: NumPy array\n",
    "        Datos de la señal generada.\n",
    "    \n",
    "    Ejemplo\n",
    "    -------\n",
    "    Generar una respuesta al impulso a partir de un sine weep logaritmico y su filtro inverso..\n",
    "    \n",
    "        import numpy as np\n",
    "        from scipy import signal\n",
    "        from scipy.io.wavfile import write\n",
    "        \n",
    "        obtencion_RI(sine_sweep, filtro_inverso)\n",
    "    \"\"\"\n",
    "    \n",
    "    h = signal.fftconvolve(sine_sweep, filtro_inverso)\n",
    "    \n",
    "    # Generación de archivo de audio .wav\n",
    "    filename = '../audio/obtencion_RI.wav'\n",
    "    write(filename, fs, h)\n",
    "    \n",
    "    return h"
   ]
  },
  {
   "cell_type": "markdown",
   "metadata": {},
   "source": [
    "Llamar a la función con un sine sweep y su respectivo filtro inverso creados con la función de la primer entrega (**no** los descargados)."
   ]
  },
  {
   "cell_type": "code",
   "execution_count": 28,
   "metadata": {
    "tags": []
   },
   "outputs": [],
   "source": [
    "sine_sweep = cargar_audio('../audio/sinesweep.wav')\n",
    "filtro_inverso = cargar_audio('../audio/filtroinverso.wav')\n",
    "\n",
    "h = obtencion_RI(sine_sweep, filtro_inverso)"
   ]
  },
  {
   "cell_type": "markdown",
   "metadata": {
    "tags": []
   },
   "source": [
    "Visualizar la señal con la función creada en la primer entrega."
   ]
  },
  {
   "cell_type": "code",
   "execution_count": 29,
   "metadata": {
    "tags": []
   },
   "outputs": [
    {
     "data": {
      "image/png": "[encoded data removed]",
      "text/plain": [
       "<Figure size 1080x360 with 1 Axes>"
      ]
     },
     "metadata": {
      "needs_background": "light"
     },
     "output_type": "display_data"
    }
   ],
   "source": [
    "visualizar(h)"
   ]
  },
  {
   "cell_type": "markdown",
   "metadata": {
    "tags": []
   },
   "source": [
    "Reproducir señal resultante."
   ]
  },
  {
   "cell_type": "code",
   "execution_count": 35,
   "metadata": {
    "tags": []
   },
   "outputs": [],
   "source": [
    "fs = 44100\n",
    "sd.play(h, fs)\n",
    "sd.wait()"
   ]
  },
  {
   "cell_type": "markdown",
   "metadata": {},
   "source": [
    "Comentar sobre el resultado obtenido. ¿Qué es lo que se esta escuchando? Realizar el mismo procedimiento con la señal descargada y el filtro inverso generado (para dicho sine sweep)"
   ]
  },
  {
   "cell_type": "markdown",
   "metadata": {
    "tags": []
   },
   "source": [
    "*completar*"
   ]
  },
  {
   "cell_type": "code",
   "execution_count": 34,
   "metadata": {},
   "outputs": [
    {
     "data": {
      "image/png": "[encoded data removed]",
      "text/plain": [
       "<Figure size 1080x360 with 1 Axes>"
      ]
     },
     "metadata": {
      "needs_background": "light"
     },
     "output_type": "display_data"
    }
   ],
   "source": [
    "sine_sweep_descargado = cargar_audio('../audio/sine_sweep_descargado.wav')\n",
    "\n",
    "fs = 44100\n",
    "omega_inicial = 2*np.pi*20\n",
    "omega_final = 2*np.pi*20000\n",
    "n = len(sine_sweep_descargado)\n",
    "T = n/fs\n",
    "K = np.float16((T * omega_inicial) / np.log(omega_final/omega_inicial))\n",
    "L = np.float16(T / np.log(omega_final/omega_inicial))\n",
    "t = np.linspace(0,T,n)\n",
    "\n",
    "# Funcion filtro inverso\n",
    "w = ((K/L)*np.exp(sine_sweep_descargado/L))\n",
    "m = (omega_inicial/(2*np.pi*w))\n",
    "k = m*sine_sweep_descargado[::-1]\n",
    "    \n",
    "## Normalizado\n",
    "valor_max = max(abs(max(k)),abs(min(k)))\n",
    "filtro_inverso_descargado = k / valor_max\n",
    "    \n",
    "# Generación de archivo de audio .wav\n",
    "filename = '../audio/filtro_inverso_descargado.wav'\n",
    "write(filename, fs, filtro_inverso_descargado)\n",
    "    \n",
    "h_2 = obtencion_RI(sine_sweep_descargado, filtro_inverso_descargado)\n",
    "visualizar(h_2)"
   ]
  },
  {
   "cell_type": "code",
   "execution_count": 37,
   "metadata": {},
   "outputs": [],
   "source": [
    "fs = 44100\n",
    "sd.play(h_2, fs)\n",
    "sd.wait()"
   ]
  },
  {
   "cell_type": "markdown",
   "metadata": {},
   "source": [
    "Mencionar aspectos que diferencian los impulso generados en esta función, con los sintetizados."
   ]
  },
  {
   "cell_type": "markdown",
   "metadata": {
    "tags": []
   },
   "source": [
    "*completar*"
   ]
  },
  {
   "cell_type": "markdown",
   "metadata": {},
   "source": [
    "## Función filtros norma IEC61260\n",
    "\n",
    "**Consigna**:Realizar una función que filtre todas las señales en octavas y tercio de octava según la norma IEC61260, con el objetivo de calcular los parámetros acústicos discriminando las frecuencias. \n",
    "\n",
    "Para lo cual utilizar las funciones del modulo [signals de scipy](https://docs.scipy.org/doc/scipy/reference/signal.html). Se adjunta el código capaz de calcular los coeficientes del filtro y aplicarlos a una señal. La función debe completarse con el código necesario para que este proceso se repita para cada una de las frecuencias centrales determinadas en la norma. Así mismo, el primer argumento de la función [iirfilter](https://docs.scipy.org/doc/scipy/reference/generated/scipy.signal.iirfilter.html) determina el grado del filtro. Evaluar el valor del mismo para que la frecuencia central de la banda coincida con las especificadas en la norma."
   ]
  },
  {
   "cell_type": "code",
   "execution_count": 84,
   "metadata": {},
   "outputs": [],
   "source": [
    "#Octava - G = 1.0/2.0 / 1/3 de Octava - G=1.0/6.0\n",
    "G = 1.0/2.0\n",
    "factor = np.power(2, G)\n",
    "fs = 44100\n",
    "#Pruebo con una frecuencia central\n",
    "centerFrequency_Hz = 1000\n",
    "\n",
    "#Calculo los extremos de la banda a partir de la frecuencia central\n",
    "lowerCutoffFrequency_Hz=centerFrequency_Hz/factor;\n",
    "upperCutoffFrequency_Hz=centerFrequency_Hz*factor;\n",
    "\n",
    "#Extraemos los coeficientes del filtro \n",
    "b,a = signal.iirfilter(4, [lowerCutoffFrequency_Hz,upperCutoffFrequency_Hz],\n",
    "                            rs=60, btype='band', analog=False,\n",
    "                            ftype='butter', fs=fs, output='ba') \n",
    "\n",
    "w, h = signal.freqz(b,a)\n",
    "#plt.plot(w, 20 * np.log10(abs(h)), 'b')\n",
    "\n",
    "#aplicar el filtro al array en la variable audio\n",
    "#signal.sosfilter(sos, audio)"
   ]
  },
  {
   "cell_type": "code",
   "execution_count": 117,
   "metadata": {},
   "outputs": [],
   "source": [
    "def filtros(audio):\n",
    "    \n",
    "    #Octava - G = 1.0/2.0 / 1/3 de Octava - G=1.0/6.0\n",
    "    G_octava = 1.0/2.0\n",
    "    factor_octava = np.power(2, G_octava)\n",
    "    G_tercio = 1.0/6.0\n",
    "    factor_tercio = np.power(2, G_tercio)\n",
    "    fs = 44100\n",
    "    \n",
    "    frecuencias_centrales = [31.25, 62.5, 125, 250, 500, 1000, 2000, 4000, 8000]\n",
    "    \n",
    "    for i in frecuencias_centrales:\n",
    "        lowerCutoffFrequency_Hz = i / factor_octava;\n",
    "        upperCutoffFrequency_Hz = i * factor_octava;\n",
    "        b,a = signal.iirfilter(5, [lowerCutoffFrequency_Hz, upperCutoffFrequency_Hz],\n",
    "                                rs=60, btype='band', analog=False,\n",
    "                                ftype='butter', fs=fs, output='ba')\n",
    "        w, h = signal.freqz(b,a)\n",
    "        #plt.plot(w, 20 * np.log10(abs(h)), 'b')\n",
    "        filtro = signal.lfilter(b, a, audio)\n",
    "        # Generación de archivo de audio .wav\n",
    "        filename = '../audio/filtro'+str(i)+'.wav'\n",
    "        write(filename, fs, filtro)\n",
    "        \n",
    "    #aplicar el filtro al array en la variable audio\n",
    "    #filtro = signal.lfilter(b, a, audio)\n",
    "    #plt.plot(filtro, 'r', label='TF')\n",
    "    #plt.legend(loc='best')\n",
    "    #plt.show()"
   ]
  },
  {
   "cell_type": "markdown",
   "metadata": {},
   "source": [
    "Llamar a la función con alguna RI generada anteriormente."
   ]
  },
  {
   "cell_type": "code",
   "execution_count": 118,
   "metadata": {
    "tags": []
   },
   "outputs": [],
   "source": [
    "filtros(RI)"
   ]
  },
  {
   "cell_type": "markdown",
   "metadata": {},
   "source": [
    "Graficar el dominio espectral del resultado en una banda, utilizando el [software Audacity](https://www.audacityteam.org/) (Ayuda: [Plot Spectrum Audacity](https://manual.audacityteam.org/man/plot_spectrum.html))"
   ]
  },
  {
   "cell_type": "code",
   "execution_count": 43,
   "metadata": {
    "tags": []
   },
   "outputs": [],
   "source": [
    "# completar"
   ]
  },
  {
   "cell_type": "markdown",
   "metadata": {},
   "source": [
    "¿El resultado es el esperado? ¿Cumple con los requerimientos de la normativa?"
   ]
  },
  {
   "cell_type": "markdown",
   "metadata": {},
   "source": [
    "*completar*"
   ]
  },
  {
   "cell_type": "markdown",
   "metadata": {},
   "source": [
    "## Función conversión a escala logarítmica normalizada\n",
    "Para visualizar correctamente la señal es necesario realizar una función que convierta la respuesta al impulso en escala logarítmica, utilizando la siguiente expresión:\n",
    "\n",
    "\\begin{equation}\n",
    "    R(t) = 20\\log_{10}\\frac{A(t)}{A(t)_{max}}\n",
    "\\tag{11}\n",
    "\\end{equation}\n",
    "\n",
    "Donde $A(t)$ es la señal que deseamos transformar de escala. **Consigna:** crear una función que convierta a escala logarítmica la RI que ingresa y devuelva un array con la señal resultante."
   ]
  },
  {
   "cell_type": "code",
   "execution_count": 114,
   "metadata": {},
   "outputs": [],
   "source": [
    "def conversion_logaritmica_normalizada(A, fs=44100):\n",
    "    \"\"\"\n",
    "    Convierte una señal de respuesta al impulso en escala logaritmica.\n",
    "    \n",
    "    Parametros\n",
    "    ----------\n",
    "    A : NumPy array\n",
    "        Señal que se desea transformar.\n",
    "    fs: int\n",
    "        Frecuencia de muestreo en Hz de la señal. Por defecto el valor es 44100 Hz.\n",
    "    \n",
    "    returns: NumPy array\n",
    "        Datos de la señal generada.\n",
    "    \n",
    "    Ejemplo\n",
    "    -------\n",
    "    Convertir una señal RI a escala logaritmica.\n",
    "    \n",
    "        import numpy as np\n",
    "        from scipy.io.wavfile import write\n",
    "        \n",
    "        conversion_logaritmica_normalizada(RI)\n",
    "    \"\"\"\n",
    "    \n",
    "    R = np.array(20*np.log10(abs(A)/np.max(A)))\n",
    "    \n",
    "    # Generación de archivo de audio .wav\n",
    "    filename = '../audio/señal_conversion.wav'\n",
    "    write(filename, fs, R)\n",
    "    \n",
    "    return R"
   ]
  },
  {
   "cell_type": "markdown",
   "metadata": {},
   "source": [
    "Llamar a la función con alguna de las señales generadas anteriormente."
   ]
  },
  {
   "cell_type": "code",
   "execution_count": 115,
   "metadata": {
    "tags": []
   },
   "outputs": [
    {
     "name": "stderr",
     "output_type": "stream",
     "text": [
      "<ipython-input-114-7775c415b139>:25: RuntimeWarning: divide by zero encountered in log10\n",
      "  R = np.array(20*np.log10(abs(A)/np.max(A)))\n"
     ]
    },
    {
     "data": {
      "text/plain": [
       "array([ 0.        , -2.43610545, -3.87452337, ...,        -inf,\n",
       "              -inf,        -inf])"
      ]
     },
     "execution_count": 115,
     "metadata": {},
     "output_type": "execute_result"
    }
   ],
   "source": [
    "R = conversion_logaritmica_normalizada(RI)\n",
    "R"
   ]
  },
  {
   "cell_type": "markdown",
   "metadata": {
    "tags": []
   },
   "source": [
    "Visualizar la señal con la función creada en la primer entrega."
   ]
  },
  {
   "cell_type": "code",
   "execution_count": 116,
   "metadata": {
    "tags": []
   },
   "outputs": [
    {
     "data": {
      "image/png": "[encoded data removed]",
      "text/plain": [
       "<Figure size 1080x360 with 1 Axes>"
      ]
     },
     "metadata": {
      "needs_background": "light"
     },
     "output_type": "display_data"
    }
   ],
   "source": [
    "visualizar(R)"
   ]
  },
  {
   "cell_type": "markdown",
   "metadata": {},
   "source": [
    "### Informe preliminar (opcional)\n",
    "Realizar un informe preliminar en formato UNTREF para memorias cuatrimestrales (disponible en el Drive de la asignatura), utilizando la plataforma de dición de documentos [LaTeX](https://es.wikipedia.org/wiki/LaTeX). Respetar las siguientes consignas:\n",
    "1. Mencionar los detalles en el diseño de los scripts(con ayuda de diagramas de flujo o pseudocódigo) sin agregar código propiamente dicho.\n",
    "2. Describir el dataset seleccionado para probar el software.\n",
    "3. El informe debe reflejar la arquitectura del software desarrollado y los avances en la producción del mismo. Los datos que se informan tienen que ser relevantes y garantizar la reproducibilidad de los mismos. No ahondar en muchos detalles teóricos y definiciones(hacer uso de referencias),hacer más bien foco en la producción del software, su evaluación y su validación.\n",
    "4. El informe preliminar no debe exceder las 3 páginas. Respetar fecha de entrega.\n",
    "5. Respetar los siguientes porcentajes de contenido por sección(también determinan los grados de importancia)\n",
    "\n",
    "A modo ilustrastivo se muestra los porcentajes del contenido en los informes:\n",
    "\n",
    "| Resumen | Introducción | Marco teórico | Desarrollo experimental | Resultados | Conclusiones |\n",
    "| -- | -- | -- | -- | -- | --  |\n",
    "| 5% | 10% | 10% | 25% | 30% | 20% |"
   ]
  }
 ],
 "metadata": {
  "kernelspec": {
   "display_name": "Python 3",
   "language": "python",
   "name": "python3"
  },
  "language_info": {
   "codemirror_mode": {
    "name": "ipython",
    "version": 3
   },
   "file_extension": ".py",
   "mimetype": "text/x-python",
   "name": "python",
   "nbconvert_exporter": "python",
   "pygments_lexer": "ipython3",
   "version": "3.8.5"
  }
 },
 "nbformat": 4,
 "nbformat_minor": 4
}
